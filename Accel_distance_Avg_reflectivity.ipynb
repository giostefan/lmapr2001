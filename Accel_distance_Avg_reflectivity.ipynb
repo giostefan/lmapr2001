{
 "cells": [
  {
   "cell_type": "markdown",
   "metadata": {},
   "source": [
    "## Compute the equation of acceleration distance\n",
    "#### Harry A. Atwater et al.\"Materials challenges for the Starshot lightsail\", \n",
    "#### Nature Materials, vol 17, pg. 863, Oct. 2018 - equation (1) to compute D(v)\n"
   ]
  },
  {
   "cell_type": "code",
   "execution_count": 44,
   "metadata": {},
   "outputs": [
    {
     "name": "stdout",
     "output_type": "stream",
     "text": [
      "Thickness:  1e-08\n",
      "Sail mass Kg:  4.89e-07\n",
      "Total mass Kg:  0.000100489\n",
      "--->  1.3333333333333335\n"
     ]
    }
   ],
   "source": [
    "\n",
    "import scipy as sc\n",
    "import scipy.integrate\n",
    "\n",
    "# sc.c = light speed\n",
    "# FeS2 density = 4.89 g/cm^3 = 4890 kg/m^3\n",
    "FeS2_density = 4.89\n",
    "\n",
    "# Sail area = 10 m^2\n",
    "S = 10\n",
    "\n",
    "# Incidence intensity = 10 GW/m^2\n",
    "intensity = 10*10e8\n",
    "#print(intensity)\n",
    "\n",
    "# Payload mass = 0.1 g = 0.0001 Kg\n",
    "payload_mass = 0.0001\n",
    "\n",
    "# Sail surface = 10 m^2\n",
    "sail_surface = 10\n",
    "\n",
    "# d = material thickeness\n",
    "# Sail mass = sail suface * material thickeness * FeS2 density\n",
    "# test thickness for d = 10 nano meter = 10e-8\n",
    "d = 10*1e-9\n",
    "print(\"Thickness: \", d)\n",
    "sail_mass = sail_surface * d * FeS2_density\n",
    "print(\"Sail mass Kg: \",sail_mass)\n",
    "\n",
    "# Total mass =  payload mass + sail mass\n",
    "total_mass = payload_mass + sail_mass\n",
    "print(\"Total mass Kg: \", total_mass)\n",
    "\n",
    "# Calculate c/(2*intensity*sail_surface)\n",
    "const_parameter = sc.constants.c/(2 * intensity * sail_surface)\n",
    "#print(const_parameter)\n",
    "\n"
   ]
  },
  {
   "cell_type": "code",
   "execution_count": 45,
   "metadata": {},
   "outputs": [
    {
     "ename": "SyntaxError",
     "evalue": "invalid syntax (<ipython-input-45-a63d34084641>, line 3)",
     "output_type": "error",
     "traceback": [
      "\u001b[1;36m  File \u001b[1;32m\"<ipython-input-45-a63d34084641>\"\u001b[1;36m, line \u001b[1;32m3\u001b[0m\n\u001b[1;33m    omega_0 =\u001b[0m\n\u001b[1;37m              ^\u001b[0m\n\u001b[1;31mSyntaxError\u001b[0m\u001b[1;31m:\u001b[0m invalid syntax\n"
     ]
    }
   ],
   "source": [
    "# Average reflectance: average_reflectance(omega) in the range of omega_D and omega_0\n",
    "average_reflectance = lambda omega: reflectance(omega) # !!! integrate the reflectance equation\n",
    "omega_0 = !!! TO BE DEFINED\n",
    "omega_D = !!! TO BE DEFINED\n",
    "# Get the first value of scipy.integrate.quad because the second is the precision of the calculation\n",
    "average_reflectance = 1/(omega_0 - omega_D) * scipy.integrate.quad(reflectance, omega_D, omega_0)[0]\n",
    "print(\"---> \", average_reflectance)"
   ]
  },
  {
   "cell_type": "markdown",
   "metadata": {},
   "source": [
    "### Calculation of integral\n"
   ]
  },
  {
   "cell_type": "markdown",
   "metadata": {},
   "source": [
    "$$ \\gamma(v) = \\left(1-\\frac{v^2}{c^2}\\right)^{-\\frac{1}{2}}$$\n",
    "\n",
    "$$ D(v_f) \\backsim \\left(\\frac{c}{2IS}\\right){\\int_0^{v_f} \\frac{m_T}{R(v)} \\frac{\\gamma(v)v}{\\left(1-\\frac{v}{c}\\right)^2}dv}$$"
   ]
  },
  {
   "cell_type": "code",
   "execution_count": null,
   "metadata": {},
   "outputs": [],
   "source": [
    "# c/2IS = c/(2*intensity*sail_surface) => const_parameter\n",
    "\n",
    "# calculate acceleration distance\n",
    "gamma =  (1 - v**2/c**2)**(-1/2)\n",
    "equation = = lambda v: (total_mass/average_reflectance) * (gamma * v / (1-v/c)**2)\n",
    "acceleration_distance = const_parameter * scipy.integrate.quad(equation, 0, final_velocity)[0]"
   ]
  },
  {
   "cell_type": "code",
   "execution_count": null,
   "metadata": {},
   "outputs": [],
   "source": []
  }
 ],
 "metadata": {
  "kernelspec": {
   "display_name": "Python 3",
   "language": "python",
   "name": "python3"
  },
  "language_info": {
   "codemirror_mode": {
    "name": "ipython",
    "version": 3
   },
   "file_extension": ".py",
   "mimetype": "text/x-python",
   "name": "python",
   "nbconvert_exporter": "python",
   "pygments_lexer": "ipython3",
   "version": "3.8.5"
  }
 },
 "nbformat": 4,
 "nbformat_minor": 4
}
