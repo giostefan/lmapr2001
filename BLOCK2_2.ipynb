{
 "cells": [
  {
   "cell_type": "markdown",
   "id": "opening-layout",
   "metadata": {},
   "source": [
    "# LMAPR2001 - Block 2 : Second section"
   ]
  },
  {
   "cell_type": "markdown",
   "id": "refined-machine",
   "metadata": {},
   "source": [
    "## Reflectivity and transmittivity of a slab"
   ]
  },
  {
   "cell_type": "markdown",
   "id": "reserved-requirement",
   "metadata": {},
   "source": [
    "For a single slab of FeS2, in air (air => FeS2 => air)"
   ]
  },
  {
   "cell_type": "code",
   "execution_count": 53,
   "id": "manual-proportion",
   "metadata": {},
   "outputs": [],
   "source": [
    "import numpy as np\n",
    "import matplotlib.pyplot as plt"
   ]
  },
  {
   "cell_type": "code",
   "execution_count": 70,
   "id": "right-shipping",
   "metadata": {},
   "outputs": [],
   "source": [
    "#range de fréquences angulaires [rad/s]\n",
    "omegaG = 1.338e15\n",
    "omega = np.logspace(12,np.log10(omegaG),200)\n",
    "\n",
    "#film thickness [µm]\n",
    "d = 0.05\n",
    "\n",
    "#ambient air\n",
    "nAir = 1\n",
    "kappaAir = 0\n",
    "N0 = 1 + 1j*0\n",
    "\n",
    "#angle d'incidence [°]\n",
    "phi0 = 0\n",
    "\n",
    "def resulting(x) : \n",
    "    \"\"\"\n",
    "    @pre : x is an array of complex or real float values\n",
    "    @post : returns the number resulting to the components of the array\n",
    "    \"\"\"\n",
    "    return np.sqrt(sum(x**2))\n",
    "\n",
    "#following values are obtained from the Excel file provided on moodle\n",
    "epsilonInfinity1 = 19.17402283496171\n",
    "epsilonInfinity2 = 22.09805938253293\n",
    "epsilonInfinity3 = 20.60710234103419\n",
    "epsilonInfinity = resulting(np.array([epsilonInfinity1,epsilonInfinity2,epsilonInfinity3]))\n",
    "f11 = 4.213279900760202 \n",
    "f12 = 1.961693284797713\n",
    "f13 = 0.007966945581503451\n",
    "f1 = resulting(np.array([f11,f12,f13]))\n",
    "omegaTO11 = 79231717132503.97\n",
    "omegaTO12 = 57563096713280.8\n",
    "omegaTO13 = 49033016471727.84\n",
    "omegaTO1 = resulting(np.array([omegaTO11,omegaTO12,omegaTO13]))\n",
    "gamma11 = 151929351721.5274\n",
    "gamma12 = 151947673655.9077\n",
    "gamma13 = 156461516099.8209\n",
    "gamma1 = resulting(np.array([gamma11,gamma12,gamma13]))\n",
    "f22 = 2.318085089104123\n",
    "f23 = 1.935048918661783\n",
    "f2 = resulting(np.array([f22,f23]))\n",
    "omegaTO22 = 70373122741473.44\n",
    "omegaTO23 = 62330594312793.54\n",
    "omegaTO2 = resulting(np.array([omegaTO22,omegaTO23]))\n",
    "gamma22 = 151959123549.7535\n",
    "gamma23 = 151954274514.8117\n",
    "gamma2 = resulting(np.array([gamma22,gamma23]))\n",
    "f32 = 3.803690401550578\n",
    "f33 = 6.832435225656633\n",
    "f3 = resulting(np.array([f32,f33]))\n",
    "omegaTO32 = 73806724238431.17\n",
    "omegaTO33 = 77733154461442.81\n",
    "omegaTO3 = resulting(np.array([omegaTO32,omegaTO33]))\n",
    "gamma32 = 151930325428.5151\n",
    "gamma33 = 151936692746.3015\n",
    "gamma3 = resulting(np.array([gamma32,gamma33]))\n",
    "f = np.array([f1,f2,f3])\n",
    "omegaTO = np.array([omegaTO1,omegaTO2,omegaTO3])\n",
    "gamma = np.array([gamma1,gamma2,gamma3])"
   ]
  },
  {
   "cell_type": "code",
   "execution_count": 71,
   "id": "supported-private",
   "metadata": {},
   "outputs": [],
   "source": [
    "def epsilonIso(omega) : \n",
    "    somme = np.zeros(len(omega),dtype='cdouble')\n",
    "    for i in range(3) : \n",
    "        somme += f[i]*omegaTO[i]**2/(omegaTO[i]**2-omega**2-(omega*gamma[i])*1j)\n",
    "    return epsilonInfinity + somme"
   ]
  },
  {
   "cell_type": "code",
   "execution_count": 72,
   "id": "rolled-entity",
   "metadata": {},
   "outputs": [],
   "source": [
    "def realN(omega) : \n",
    "    epsilon = epsilonIso(omega)\n",
    "    epsilonIsoReal = np.array([x.real for x in epsilon])\n",
    "    epsilonIsoImg = np.array([x.imag for x in epsilon])\n",
    "    return 1/(2**(1/2))*(epsilonIsoReal + (epsilonIsoReal**2+epsilonIsoImg**2)**(1/2))**(1/2)"
   ]
  },
  {
   "cell_type": "code",
   "execution_count": 73,
   "id": "signal-circulation",
   "metadata": {},
   "outputs": [],
   "source": [
    "def kappa(omega) : \n",
    "    epsilon = epsilonIso(omega)\n",
    "    epsilonIsoReal = np.array([x.real for x in epsilon])\n",
    "    epsilonIsoImg = np.array([x.imag for x in epsilon])\n",
    "    return 1/(2**(1/2))*(-epsilonIsoReal + (epsilonIsoReal**2+epsilonIsoImg**2)**(1/2))**(1/2)"
   ]
  },
  {
   "cell_type": "code",
   "execution_count": 74,
   "id": "quantitative-playback",
   "metadata": {},
   "outputs": [],
   "source": [
    "def complexNmod(omega) : \n",
    "    n = realN(omega)\n",
    "    kappa = kappa(omega)\n",
    "    return (n**2 + kappa**2)**1/2"
   ]
  },
  {
   "cell_type": "code",
   "execution_count": 75,
   "id": "hollow-italy",
   "metadata": {},
   "outputs": [],
   "source": [
    "def complexN(omega) : \n",
    "    n = realN(omega)\n",
    "    kappaVal = kappa(omega)\n",
    "    res = np.zeros(len(omega),dtype='cdouble')\n",
    "    for i in range(len(res)) : \n",
    "        res[i] = n[i]-1j*kappaVal[i]\n",
    "    return res"
   ]
  },
  {
   "cell_type": "markdown",
   "id": "willing-storage",
   "metadata": {},
   "source": [
    "## Additional values"
   ]
  },
  {
   "cell_type": "markdown",
   "id": "steady-voice",
   "metadata": {},
   "source": [
    "### Sine and cosine of incident angle\n",
    "\n",
    "$\\sin(\\varphi_0) = \\sin\\left(\\dfrac{\\varphi_0\\cdot\\pi}{180}\\right)$\n",
    "\n",
    "$\\cos(\\phi_0) = \\sqrt{1-\\sin(\\varphi_0)^2}$"
   ]
  },
  {
   "cell_type": "code",
   "execution_count": 76,
   "id": "comparable-candle",
   "metadata": {},
   "outputs": [],
   "source": [
    "N1 = complexN(omega)\n",
    "\n",
    "#sin et cos de l'angle d'incidence (air=>FeS2)\n",
    "sinphi0 = np.sin(phi0/180*np.pi)\n",
    "cosphi0 = np.sqrt(1-sinphi0**2)"
   ]
  },
  {
   "cell_type": "markdown",
   "id": "patent-reading",
   "metadata": {},
   "source": [
    "### Computation of the angle in the FeS2 slab (complex Snell's law)\n",
    "$N_0\\sin(\\varphi_0) = N_1\\sin(\\varphi_1)$\n",
    "\n",
    "$\\sin(\\varphi_1) = \\dfrac{N_0\\sin(\\varphi_0)}{N_1}$"
   ]
  },
  {
   "cell_type": "code",
   "execution_count": 77,
   "id": "essential-fancy",
   "metadata": {},
   "outputs": [],
   "source": [
    "sinphi1 = N0*sinphi0/N1\n",
    "cosphi1 = np.sqrt(1-sinphi1**2)"
   ]
  },
  {
   "cell_type": "markdown",
   "id": "external-scroll",
   "metadata": {},
   "source": [
    "### Computation of the angle in the air (after transmission into the FeS2 slab)\n",
    "\n",
    "$N_1\\sin(\\varphi_1) = N_2\\sin(\\varphi_2)$\n",
    "\n",
    "$\\sin(\\varphi_2) = \\dfrac{N_1\\sin(\\varphi_1)}{N_2}$"
   ]
  },
  {
   "cell_type": "code",
   "execution_count": 78,
   "id": "serious-responsibility",
   "metadata": {},
   "outputs": [],
   "source": [
    "sinphi2 = N1*sinphi1/N0\n",
    "cosphi2 = np.sqrt(1-sinphi2**2)"
   ]
  },
  {
   "cell_type": "markdown",
   "id": "essential-hurricane",
   "metadata": {},
   "source": [
    "### Fresnel reflection and transmission coefficients at the 0-1 interface \n",
    "\n",
    "$r_{01p} = \\dfrac{N_1\\cos(\\varphi_0)-N_0\\cos(\\varphi_1)}{N_1\\cos(\\varphi_0)+N_0\\cos(\\varphi_1)}$\n",
    "\n",
    "$r_{01s} = \\dfrac{N_0\\cos(\\varphi_0)-N_1\\cos(\\varphi_1)}{N_0\\cos(\\varphi_0)+N_1\\cos(\\varphi_1)}$\n",
    "\n",
    "$t_{01p} = \\dfrac{2N_0\\cos(\\varphi_0)}{N_1\\cos(\\varphi_0)+N_0\\cos(\\varphi_1)}$\n",
    "\n",
    "$t_{01s} = \\dfrac{2N_0\\cos(\\varphi_0)}{N_0\\cos(\\varphi_0)+N_1\\cos(\\varphi_1)}$"
   ]
  },
  {
   "cell_type": "code",
   "execution_count": 79,
   "id": "changed-butter",
   "metadata": {},
   "outputs": [],
   "source": [
    "r01p = (N1*cosphi0-N0*cosphi1)/(N1*cosphi0+N0*cosphi1)\n",
    "r01s = (N0*cosphi0-N1*cosphi1)/(N0*cosphi0+N1*cosphi1)\n",
    "t01p = (2*N0*cosphi0)/(N1*cosphi0+N0*cosphi1)\n",
    "t01s = (2*N0*cosphi0)/(N0*cosphi0+N1*cosphi1)"
   ]
  },
  {
   "cell_type": "markdown",
   "id": "similar-inspiration",
   "metadata": {},
   "source": [
    "### Fresnel reflection and transmission coefficients at the 1-2 interface \n",
    "\n",
    "$r_{12p} = \\dfrac{N_2\\cos(\\varphi_1)-N_1\\cos(\\varphi_2)}{N_2\\cos(\\varphi_1)+N_1\\cos(\\varphi_2)}$\n",
    "\n",
    "$r_{12s} = \\dfrac{N_1\\cos(\\varphi_1)-N_2\\cos(\\varphi_2)}{N_1\\cos(\\varphi_1)+N_2\\cos(\\varphi_2)}$\n",
    "\n",
    "$t_{12p} = \\dfrac{2N_1\\cos(\\varphi_1)}{N_2\\cos(\\varphi_1)+N_1\\cos(\\varphi_2)}$\n",
    "\n",
    "$t_{12s} = \\dfrac{2N_1\\cos(\\varphi_1)}{N_1\\cos(\\varphi_1)+N_2\\cos(\\varphi_2)}$"
   ]
  },
  {
   "cell_type": "code",
   "execution_count": 80,
   "id": "modified-choir",
   "metadata": {},
   "outputs": [],
   "source": [
    "r12p = (N0*cosphi1-N1*cosphi2)/(N0*cosphi1+N1*cosphi2)\n",
    "r12s = (N1*cosphi1-N0*cosphi2)/(N1*cosphi1+N0*cosphi2)\n",
    "t12p = (2*N1*cosphi1)/(N0*cosphi1+N1*cosphi2)\n",
    "t12s = (2*N1*cosphi1)/(N1*cosphi1+N0*cosphi2)"
   ]
  },
  {
   "cell_type": "markdown",
   "id": "floating-calibration",
   "metadata": {},
   "source": [
    "### Phase angle (film phase thickness)\n",
    "\n",
    "$\\beta = 2\\pi\\left(\\dfrac{d_1}{\\lambda}N_1\\cos(\\varphi_1)\\right)$\n",
    "\n",
    "where the wavelength in the vacuum $\\text{[}10^{-6}\\text{m]}$ is obtained as follows : $\\lambda = \\dfrac{2\\pi c}{\\omega}$, with $c$ the speed of light in vacuum.\n",
    "\n",
    "<span style=\"color:red\">Doppler correction for $\\omega$ ??</span>"
   ]
  },
  {
   "cell_type": "code",
   "execution_count": 81,
   "id": "military-welding",
   "metadata": {},
   "outputs": [],
   "source": [
    "wavelength = 2*np.pi*3e14/omega\n",
    "beta = 2*np.pi*d*N1*cosphi1/wavelength"
   ]
  },
  {
   "cell_type": "markdown",
   "id": "whole-study",
   "metadata": {},
   "source": [
    "### Polarized complex-amplitude reflection and transmission coefficients\n",
    "\n",
    "$R_p = \\dfrac{r_{01p}+r_{12p}\\exp(-j2\\beta)}{1+r_{01p}r_{12p}\\exp(-j2\\beta)}$\n",
    "\n",
    "$R_s = \\dfrac{r_{01s}+r_{12s}\\exp(-j2\\beta)}{1+r_{01s}r_{12s}\\exp(-j2\\beta)}$\n",
    "\n",
    "$T_p = \\dfrac{t_{01p}t_{12p}\\exp(-j\\beta)}{1+r_{01p}r_{12p}\\exp(-j2\\beta)}$\n",
    "\n",
    "$T_s = \\dfrac{t_{01s}t_{12s}\\exp(-j\\beta)}{1+r_{01s}r_{12s}\\exp(-j2\\beta)}$"
   ]
  },
  {
   "cell_type": "code",
   "execution_count": 82,
   "id": "disturbed-geology",
   "metadata": {},
   "outputs": [],
   "source": [
    "Rp = (r01p+r12p*np.exp(1j*(-2*beta)))/(1+r01p*r12p*np.exp(1j*(-2*beta)))\n",
    "Rs = (r01s+r12s*np.exp(1j*(-2*beta)))/(1+r01s*r12s*np.exp(1j*(-2*beta)))\n",
    "Tp = (t01p*t12p*np.exp(1j*(-1*beta)))/(1+r01p*r12p*np.exp(1j*(-2*beta)))\n",
    "Ts = (t01s*t12s*np.exp(1j*(-1*beta)))/(1+r01s*r12s*np.exp(1j*(-2*beta)))"
   ]
  },
  {
   "cell_type": "markdown",
   "id": "driving-pound",
   "metadata": {},
   "source": [
    "### Results\n",
    "\n",
    "Reflection : $R = \\dfrac{1}{2}\\left(R_p^2+R_s^2\\right)$\n",
    "\n",
    "Transmission : $T = \\dfrac{1}{2}\\left(T_p^2+T_s^2\\right)$\n",
    "\n",
    "Absorption : $A = 1-R-T$"
   ]
  },
  {
   "cell_type": "code",
   "execution_count": 83,
   "id": "intelligent-activity",
   "metadata": {},
   "outputs": [],
   "source": [
    "R = 0.5*(abs(Rp)**2+abs(Rs)**2)\n",
    "T = 0.5*(abs(Tp)**2+abs(Ts)**2)\n",
    "A = 1-R-T"
   ]
  },
  {
   "cell_type": "code",
   "execution_count": 84,
   "id": "invisible-roberts",
   "metadata": {
    "scrolled": false
   },
   "outputs": [
    {
     "data": {
      "image/png": "[encoded data removed]",
      "text/plain": [
       "<Figure size 1080x720 with 1 Axes>"
      ]
     },
     "metadata": {
      "needs_background": "light"
     },
     "output_type": "display_data"
    }
   ],
   "source": [
    "plt.figure(figsize=(15,10))\n",
    "plt.plot(omega,T,color='blue',label=\"Transmittivity\")\n",
    "plt.plot(omega,R,color='red',label=\"Reflectivity\")\n",
    "plt.plot(omega,A,color='magenta',label = \"Absorbance\")\n",
    "plt.title(r'Reflectivity, transmittivity and absorbance coefficients vs $\\omega$ for a single slab of FeS$_2$ (d={} nm)'.format(d*1000))\n",
    "plt.xlabel(r'$\\omega$ [rad/s]')\n",
    "plt.xscale('log')\n",
    "plt.legend()\n",
    "plt.show()"
   ]
  },
  {
   "cell_type": "markdown",
   "id": "fuzzy-abraham",
   "metadata": {},
   "source": [
    "## Reflectivity of bulk material"
   ]
  },
  {
   "cell_type": "code",
   "execution_count": 87,
   "id": "humanitarian-hebrew",
   "metadata": {},
   "outputs": [
    {
     "data": {
      "image/png": "[encoded data removed]",
      "text/plain": [
       "<Figure size 1080x720 with 1 Axes>"
      ]
     },
     "metadata": {
      "needs_background": "light"
     },
     "output_type": "display_data"
    },
    {
     "name": "stdout",
     "output_type": "stream",
     "text": [
      "Highest peak : 0.9264054740490495 at 106340251123869.5 [rad/s]\n"
     ]
    }
   ],
   "source": [
    "#film thickness [µm]\n",
    "d = 1e6\n",
    "#ambient air\n",
    "nAir = 1\n",
    "kappaAir = 0\n",
    "N0 = 1 + 1j*0\n",
    "#angle d'incidence [°]\n",
    "phi0 = 0\n",
    "N1 = complexN(omega)\n",
    "#sin et cos de l'angle d'incidence (air=>FeS2)\n",
    "sinphi0 = np.sin(phi0/180*np.pi)\n",
    "cosphi0 = np.sqrt(1-sinphi0**2)\n",
    "sinphi1 = N0*sinphi0/N1\n",
    "cosphi1 = np.sqrt(1-sinphi1**2)\n",
    "sinphi2 = N1*sinphi1/N0\n",
    "cosphi2 = np.sqrt(1-sinphi2**2)\n",
    "r01p = (N1*cosphi0-N0*cosphi1)/(N1*cosphi0+N0*cosphi1)\n",
    "r01s = (N0*cosphi0-N1*cosphi1)/(N0*cosphi0+N1*cosphi1)\n",
    "r12p = (N0*cosphi1-N1*cosphi2)/(N0*cosphi1+N1*cosphi2)\n",
    "r12s = (N1*cosphi1-N0*cosphi2)/(N1*cosphi1+N0*cosphi2)\n",
    "Rp = (r01p+r12p*np.exp(1j*(-2*beta)))/(1+r01p*r12p*np.exp(1j*(-2*beta)))\n",
    "Rs = (r01s+r12s*np.exp(1j*(-2*beta)))/(1+r01s*r12s*np.exp(1j*(-2*beta)))\n",
    "R = 0.5*(abs(Rp)**2+abs(Rs)**2)\n",
    "plt.figure(figsize=(15,10))\n",
    "plt.plot(omega,R,color='red')\n",
    "plt.title(r'Reflectivity coefficient vs $\\omega$ for bulk FeS$_2$ (d={} cm)'.format(d/1e4))\n",
    "plt.xlabel(r'$\\omega$ [rad/s]')\n",
    "plt.xscale('log')\n",
    "plt.show()\n",
    "print(\"Highest peak : {0} at {1} [rad/s]\".format(max(R),omega[np.argmax(R)]))"
   ]
  },
  {
   "cell_type": "markdown",
   "id": "better-oregon",
   "metadata": {},
   "source": [
    "We can see sharp peaks around $10^{14}$ [rad/s] (more precisely, the highest peak is situated on $1,063\\times 10^{14}$ [rad/s]. As the frequency gets closer to the band gap frequency, we can also see an increase of the reflectivity coefficient <span style=\"color:red\">**!!! JUSTIFIER POURQUOI !!!**</span>"
   ]
  },
  {
   "cell_type": "code",
   "execution_count": null,
   "id": "signed-kansas",
   "metadata": {},
   "outputs": [],
   "source": []
  }
 ],
 "metadata": {
  "kernelspec": {
   "display_name": "Python 3",
   "language": "python",
   "name": "python3"
  },
  "language_info": {
   "codemirror_mode": {
    "name": "ipython",
    "version": 3
   },
   "file_extension": ".py",
   "mimetype": "text/x-python",
   "name": "python",
   "nbconvert_exporter": "python",
   "pygments_lexer": "ipython3",
   "version": "3.8.6"
  }
 },
 "nbformat": 4,
 "nbformat_minor": 5
}
