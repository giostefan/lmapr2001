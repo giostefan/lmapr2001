{
 "cells": [
  {
   "cell_type": "markdown",
   "id": "pointed-planning",
   "metadata": {},
   "source": [
    "# Optical properties of a lightsail made of N slabs of FeS2"
   ]
  },
  {
   "cell_type": "markdown",
   "id": "permanent-dancing",
   "metadata": {},
   "source": [
    "Slabs of FeS2 have a thickness of $d_1$ and are separated by layers of ideal aerogel (dielectric constant equal to the one of the vacuum and 0 density) of thickness $d_2$. "
   ]
  },
  {
   "cell_type": "markdown",
   "id": "athletic-catalyst",
   "metadata": {},
   "source": [
    "Let a stack of $N$ slabs separated by aerogel layers."
   ]
  },
  {
   "cell_type": "code",
   "execution_count": null,
   "id": "musical-thunder",
   "metadata": {},
   "outputs": [],
   "source": [
    "import numpy as np\n",
    "import matplotlib.pyplot as plt\n",
    "\n",
    "def computeRT(d1,d2,N,n,phi0,omega) : \n",
    "    \n",
    "    Rs = abs(rs)**2\n",
    "    Rp = abs(rp)**2\n",
    "    #final results\n",
    "    R = 0.5*Rs+0.5*Rp\n",
    "    T = 0.5*Ts+0.5*T\n",
    "    return (R,T)"
   ]
  }
 ],
 "metadata": {
  "kernelspec": {
   "display_name": "Python 3",
   "language": "python",
   "name": "python3"
  },
  "language_info": {
   "codemirror_mode": {
    "name": "ipython",
    "version": 3
   },
   "file_extension": ".py",
   "mimetype": "text/x-python",
   "name": "python",
   "nbconvert_exporter": "python",
   "pygments_lexer": "ipython3",
   "version": "3.8.6"
  }
 },
 "nbformat": 4,
 "nbformat_minor": 5
}
