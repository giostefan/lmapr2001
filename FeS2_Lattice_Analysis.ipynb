{
 "cells": [
  {
   "cell_type": "code",
   "execution_count": 4,
   "metadata": {
    "scrolled": true
   },
   "outputs": [
    {
     "name": "stdout",
     "output_type": "stream",
     "text": [
      "Collecting pymatgen\n",
      "  Using cached pymatgen-2021.2.8.1.tar.gz (3.0 MB)\n",
      "  Installing build dependencies: started\n",
      "  Installing build dependencies: finished with status 'done'\n",
      "  Getting requirements to build wheel: started\n",
      "  Getting requirements to build wheel: finished with status 'done'\n",
      "  Installing backend dependencies: started\n",
      "  Installing backend dependencies: finished with status 'done'\n",
      "    Preparing wheel metadata: started\n",
      "    Preparing wheel metadata: finished with status 'done'\n",
      "Collecting uncertainties>=3.1.4\n",
      "  Using cached uncertainties-3.1.5-py2.py3-none-any.whl (246 kB)\n",
      "Requirement already satisfied: requests in c:\\users\\virtu\\anaconda3\\lib\\site-packages (from pymatgen) (2.24.0)\n",
      "Collecting spglib>=1.9.9.44\n",
      "  Using cached spglib-1.16.1.tar.gz (723 kB)\n",
      "  Installing build dependencies: started\n",
      "  Installing build dependencies: finished with status 'done'\n",
      "  Getting requirements to build wheel: started\n",
      "  Getting requirements to build wheel: finished with status 'done'\n",
      "    Preparing wheel metadata: started\n",
      "    Preparing wheel metadata: finished with status 'done'\n",
      "Requirement already satisfied: numpy>=1.18.0 in c:\\users\\virtu\\anaconda3\\lib\\site-packages (from pymatgen) (1.19.2)\n",
      "Requirement already satisfied: scipy>=1.5.0 in c:\\users\\virtu\\anaconda3\\lib\\site-packages (from pymatgen) (1.5.2)\n",
      "Collecting monty>=3.0.2\n",
      "  Using cached monty-4.0.2-py3-none-any.whl (62 kB)\n",
      "Requirement already satisfied: ruamel.yaml>=0.15.6 in c:\\users\\virtu\\anaconda3\\lib\\site-packages (from pymatgen) (0.15.87)\n",
      "Collecting tabulate\n",
      "  Using cached tabulate-0.8.7-py3-none-any.whl (24 kB)\n",
      "Requirement already satisfied: networkx>=2.2 in c:\\users\\virtu\\anaconda3\\lib\\site-packages (from pymatgen) (2.5)\n",
      "Collecting palettable>=3.1.1\n",
      "  Using cached palettable-3.3.0-py2.py3-none-any.whl (111 kB)\n",
      "Collecting plotly>=4.5.0\n",
      "  Using cached plotly-4.14.3-py2.py3-none-any.whl (13.2 MB)\n",
      "Requirement already satisfied: sympy in c:\\users\\virtu\\anaconda3\\lib\\site-packages (from pymatgen) (1.6.2)\n",
      "Requirement already satisfied: matplotlib>=1.5 in c:\\users\\virtu\\anaconda3\\lib\\site-packages (from pymatgen) (3.3.2)\n",
      "Requirement already satisfied: pandas in c:\\users\\virtu\\anaconda3\\lib\\site-packages (from pymatgen) (1.1.3)\n",
      "Requirement already satisfied: future in c:\\users\\virtu\\anaconda3\\lib\\site-packages (from uncertainties>=3.1.4->pymatgen) (0.18.2)\n",
      "Requirement already satisfied: urllib3!=1.25.0,!=1.25.1,<1.26,>=1.21.1 in c:\\users\\virtu\\anaconda3\\lib\\site-packages (from requests->pymatgen) (1.25.11)\n",
      "Requirement already satisfied: idna<3,>=2.5 in c:\\users\\virtu\\anaconda3\\lib\\site-packages (from requests->pymatgen) (2.10)\n",
      "Requirement already satisfied: certifi>=2017.4.17 in c:\\users\\virtu\\anaconda3\\lib\\site-packages (from requests->pymatgen) (2020.6.20)\n",
      "Requirement already satisfied: chardet<4,>=3.0.2 in c:\\users\\virtu\\anaconda3\\lib\\site-packages (from requests->pymatgen) (3.0.4)\n",
      "Requirement already satisfied: decorator>=4.3.0 in c:\\users\\virtu\\anaconda3\\lib\\site-packages (from networkx>=2.2->pymatgen) (4.4.2)\n",
      "Collecting retrying>=1.3.3\n",
      "  Using cached retrying-1.3.3.tar.gz (10 kB)\n",
      "Requirement already satisfied: six in c:\\users\\virtu\\anaconda3\\lib\\site-packages (from plotly>=4.5.0->pymatgen) (1.15.0)\n",
      "Requirement already satisfied: mpmath>=0.19 in c:\\users\\virtu\\anaconda3\\lib\\site-packages (from sympy->pymatgen) (1.1.0)\n",
      "Requirement already satisfied: kiwisolver>=1.0.1 in c:\\users\\virtu\\anaconda3\\lib\\site-packages (from matplotlib>=1.5->pymatgen) (1.3.0)\n",
      "Requirement already satisfied: python-dateutil>=2.1 in c:\\users\\virtu\\anaconda3\\lib\\site-packages (from matplotlib>=1.5->pymatgen) (2.8.1)\n",
      "Requirement already satisfied: pillow>=6.2.0 in c:\\users\\virtu\\anaconda3\\lib\\site-packages (from matplotlib>=1.5->pymatgen) (8.0.1)\n",
      "Requirement already satisfied: pyparsing!=2.0.4,!=2.1.2,!=2.1.6,>=2.0.3 in c:\\users\\virtu\\anaconda3\\lib\\site-packages (from matplotlib>=1.5->pymatgen) (2.4.7)\n",
      "Requirement already satisfied: cycler>=0.10 in c:\\users\\virtu\\anaconda3\\lib\\site-packages (from matplotlib>=1.5->pymatgen) (0.10.0)\n",
      "Requirement already satisfied: pytz>=2017.2 in c:\\users\\virtu\\anaconda3\\lib\\site-packages (from pandas->pymatgen) (2020.1)\n",
      "Building wheels for collected packages: pymatgen, spglib, retrying\n",
      "  Building wheel for pymatgen (PEP 517): started\n",
      "  Building wheel for pymatgen (PEP 517): finished with status 'done'\n",
      "  Created wheel for pymatgen: filename=pymatgen-2021.2.8.1-cp38-cp38-win_amd64.whl size=3075265 sha256=d48de3f3cf76bd0e1fbb95f3ff964ebfd35fa5ed819aa0d623aec89f713fc3a3\n",
      "  Stored in directory: c:\\users\\virtu\\appdata\\local\\pip\\cache\\wheels\\b8\\d5\\d9\\d7ddd3dbcec52fc4cf1bd40e7b9e37e9ef5fbe27c683a798d3\n",
      "  Building wheel for spglib (PEP 517): started\n",
      "  Building wheel for spglib (PEP 517): finished with status 'done'\n",
      "  Created wheel for spglib: filename=spglib-1.16.1-cp38-cp38-win_amd64.whl size=140078 sha256=67fdfdac08b1cc2f263bc2b20c87ca1d33a13fcd3b4727889cca9bde8c91b5cb\n",
      "  Stored in directory: c:\\users\\virtu\\appdata\\local\\pip\\cache\\wheels\\a3\\73\\fa\\2368b4f279336be3e2b3f4be0576275ce86e1701a849d86938\n",
      "  Building wheel for retrying (setup.py): started\n",
      "  Building wheel for retrying (setup.py): finished with status 'done'\n",
      "  Created wheel for retrying: filename=retrying-1.3.3-py3-none-any.whl size=11434 sha256=7724f0b04444c4907dc995c0d7d1c9ac12d5c604e50d00c66f4ba8c8d45bc11d\n",
      "  Stored in directory: c:\\users\\virtu\\appdata\\local\\pip\\cache\\wheels\\c4\\a7\\48\\0a434133f6d56e878ca511c0e6c38326907c0792f67b476e56\n",
      "Successfully built pymatgen spglib retrying\n",
      "Installing collected packages: uncertainties, spglib, monty, tabulate, palettable, retrying, plotly, pymatgen\n",
      "Successfully installed monty-4.0.2 palettable-3.3.0 plotly-4.14.3 pymatgen-2021.2.8.1 retrying-1.3.3 spglib-1.16.1 tabulate-0.8.7 uncertainties-3.1.5\n"
     ]
    }
   ],
   "source": [
    "# Install pymatgen library\n",
    "!pip install pymatgen"
   ]
  },
  {
   "cell_type": "markdown",
   "metadata": {},
   "source": [
    "## FeS2 Analysis of crystal system"
   ]
  },
  {
   "cell_type": "code",
   "execution_count": 33,
   "metadata": {},
   "outputs": [],
   "source": [
    "# Download CIF file of FeS2 - \"mp-1522\" material\n",
    "from pymatgen.ext.matproj import MPRester\n",
    "from pymatgen.io.cif import CifWriter\n",
    "\n",
    "with MPRester(\"AaCuMl5yxEVFLZ8n\") as m:\n",
    "    # Get the information for material \"mp-1522\"\n",
    "    structure = m.get_structure_by_material_id(\"mp-1522\") # FeS2"
   ]
  },
  {
   "cell_type": "markdown",
   "metadata": {},
   "source": [
    "### Collect the specific lattice information, in particular:\n",
    "    1. the crystalline system\n",
    "    2. the lattice type\n",
    "    3. the vectors \n",
    "        a. basic vectors of direct network\n",
    "        b. basic vectors of reciprocal network\n",
    "    4. the symbol of its point group\n"
   ]
  },
  {
   "cell_type": "code",
   "execution_count": 34,
   "metadata": {},
   "outputs": [],
   "source": [
    "from pymatgen.symmetry.analyzer import SpacegroupAnalyzer\n",
    "\n",
    "FeS2analyser = SpacegroupAnalyzer(structure)"
   ]
  },
  {
   "cell_type": "code",
   "execution_count": 35,
   "metadata": {},
   "outputs": [
    {
     "name": "stdout",
     "output_type": "stream",
     "text": [
      "The crystal system for the structure is:  orthorhombic\n"
     ]
    }
   ],
   "source": [
    "# 1. Crystalline system\n",
    "sc = FeS2analyser.get_crystal_system()\n",
    "print(\"The crystal system for the structure is: \", sc)"
   ]
  },
  {
   "cell_type": "code",
   "execution_count": 36,
   "metadata": {},
   "outputs": [
    {
     "name": "stdout",
     "output_type": "stream",
     "text": [
      "The lattice for the structure is:  orthorhombic\n"
     ]
    }
   ],
   "source": [
    "# 2. lattice type\n",
    "lattice = FeS2analyser.get_lattice_type()\n",
    "print(\"The lattice for the structure is: \", lattice)"
   ]
  },
  {
   "cell_type": "code",
   "execution_count": 37,
   "metadata": {},
   "outputs": [
    {
     "name": "stdout",
     "output_type": "stream",
     "text": [
      "Primitive standardised cell:\n",
      "\n",
      "Full Formula (Fe2 S4)\n",
      "Reduced Formula: FeS2\n",
      "abc   :   3.390309   4.438316   5.411022\n",
      "angles:  90.000000  90.000000  90.000000\n",
      "Sites (6)\n",
      "  #  SP      a         b        c\n",
      "---  ----  ---  --------  -------\n",
      "  0  Fe    0.5  0.5       0.5\n",
      "  1  Fe    0    0         0\n",
      "  2  S     0.5  0.293999  0.87533\n",
      "  3  S     0.5  0.706001  0.12467\n",
      "  4  S     0    0.206001  0.37533\n",
      "  5  S     0    0.793999  0.62467 \n",
      "\n",
      "\n"
     ]
    }
   ],
   "source": [
    "# Extract the structure in a primitive standardized cell\n",
    "stdCell = FeS2analyser.get_primitive_standard_structure()\n",
    "print(\"Primitive standardised cell:\\n\")\n",
    "print(stdCell,\"\\n\\n\")"
   ]
  },
  {
   "attachments": {},
   "cell_type": "markdown",
   "metadata": {},
   "source": [
    "![image.png](FeS2-Pnnm-crystal_s.png)"
   ]
  },
  {
   "cell_type": "code",
   "execution_count": 31,
   "metadata": {
    "scrolled": true
   },
   "outputs": [
    {
     "name": "stdout",
     "output_type": "stream",
     "text": [
      "Refined structure, conventional cell setting:\n",
      "\n",
      "Full Formula (Fe2 S4)\n",
      "Reduced Formula: FeS2\n",
      "abc   :   4.438316   5.411022   3.390309\n",
      "angles:  90.000000  90.000000  90.000000\n",
      "Sites (6)\n",
      "  #  SP           a        b    c\n",
      "---  ----  --------  -------  ---\n",
      "  0  Fe    0.5       0.5      0.5\n",
      "  1  Fe    0         0        0\n",
      "  2  S     0.293999  0.87533  0.5\n",
      "  3  S     0.706001  0.12467  0.5\n",
      "  4  S     0.206001  0.37533  0\n",
      "  5  S     0.793999  0.62467  0\n"
     ]
    }
   ],
   "source": [
    "# Refined structure - Conventional cell with atoms moved to the expected symmetry positions.\n",
    "refinedCell = FeS2analyser.get_refined_structure()\n",
    "print(\"Refined structure, conventional cell setting:\\n\")\n",
    "print(refinedCell)"
   ]
  },
  {
   "attachments": {},
   "cell_type": "markdown",
   "metadata": {},
   "source": [
    "![image.png](FeS2-Pnnm-crystal-toolkit.png)"
   ]
  },
  {
   "cell_type": "code",
   "execution_count": 38,
   "metadata": {
    "scrolled": false
   },
   "outputs": [
    {
     "name": "stdout",
     "output_type": "stream",
     "text": [
      "The basic vectors of direct network (in Angstrom) are:\n",
      " 3.390309 0.000000 0.000000\n",
      "0.000000 4.438316 0.000000\n",
      "0.000000 0.000000 5.411022 \n",
      "\n",
      "\n",
      "Separate vectors\n",
      "Vector a:   [3.390309 0.       0.      ]\n",
      "Vector b:   [0.       4.438316 0.      ]\n",
      "Vector c:   [0.       0.       5.411022]\n"
     ]
    }
   ],
   "source": [
    "# 3a. basic vectors of direct network\n",
    "basicVectDirectNetw = structure.lattice\n",
    "print(\"The basic vectors of direct network (in Angstrom) are:\\n\",basicVectDirectNetw, \"\\n\\n\")\n",
    "basicVectDirectNetw = structure.lattice.matrix\n",
    "print(\"Separate vectors\")\n",
    "print(\"Vector a:  \", basicVectDirectNetw[0])\n",
    "print(\"Vector b:  \", basicVectDirectNetw[1])\n",
    "print(\"Vector c:  \", basicVectDirectNetw[2])"
   ]
  },
  {
   "cell_type": "code",
   "execution_count": 12,
   "metadata": {
    "scrolled": false
   },
   "outputs": [
    {
     "name": "stdout",
     "output_type": "stream",
     "text": [
      "Note: the standard reciprocal lattice is used for solid state physics with a factor of 2*pi.\n",
      "The basic vectors of reciprocal network are:\n",
      " [[3.390309 0.       0.      ]\n",
      " [0.       4.438316 0.      ]\n",
      " [0.       0.       5.411022]] \n",
      "\n",
      "Separate vectors\n",
      "Vector a:   [1.85327807 0.         0.        ]\n",
      "Vector b:   [0.         1.41566876 0.        ]\n",
      "Vector c:   [0.         0.         1.16118273]\n",
      "\n",
      "\n",
      "Note: the crystallographic reciprocal lattice is without a factor of 2*pi.\n",
      "Separate vectors without factor of 2 * pi\n",
      "Vector a:   [0.29495837 0.         0.        ]\n",
      "Vector b:   [0.         0.22531068 0.        ]\n",
      "Vector c:   [0.         0.         0.18480797]\n"
     ]
    }
   ],
   "source": [
    "# 3b. basic vectors of reciprocal network\n",
    "basicVectReciprocalNetw = structure.lattice.reciprocal_lattice\n",
    "print(\"Note: the standard reciprocal lattice is used for solid state physics with a factor of 2*pi.\")\n",
    "print(\"The basic vectors of reciprocal network are:\\n\",basicVectDirectNetw, \"\\n\")\n",
    "basicVectReciprocalNetw = structure.lattice.reciprocal_lattice.matrix\n",
    "print(\"Separate vectors\")\n",
    "print(\"Vector a:  \", basicVectReciprocalNetw[0])\n",
    "print(\"Vector b:  \", basicVectReciprocalNetw[1])\n",
    "print(\"Vector c:  \", basicVectReciprocalNetw[2])\n",
    "\n",
    "print(\"\\n\\nNote: the crystallographic reciprocal lattice is without a factor of 2*pi.\")\n",
    "basicVectReciprocalNetwNo2pi = structure.lattice.reciprocal_lattice_crystallographic.matrix\n",
    "print(\"Separate vectors without factor of 2 * pi\")\n",
    "print(\"Vector a:  \", basicVectReciprocalNetwNo2pi[0])\n",
    "print(\"Vector b:  \", basicVectReciprocalNetwNo2pi[1])\n",
    "print(\"Vector c:  \", basicVectReciprocalNetwNo2pi[2])"
   ]
  },
  {
   "cell_type": "code",
   "execution_count": 39,
   "metadata": {},
   "outputs": [
    {
     "name": "stdout",
     "output_type": "stream",
     "text": [
      "The point group of FeS2 is:   mmm\n"
     ]
    }
   ],
   "source": [
    "# 4. the symbol of its point group\n",
    "\n",
    "# Get the point group associated with the structure \"FeS2analyser\"\n",
    "pointGroup = FeS2analyser.get_point_group_symbol()\n",
    "print(\"The point group of FeS2 is:  \", pointGroup)"
   ]
  },
  {
   "cell_type": "code",
   "execution_count": null,
   "metadata": {},
   "outputs": [],
   "source": []
  }
 ],
 "metadata": {
  "kernelspec": {
   "display_name": "Python 3",
   "language": "python",
   "name": "python3"
  },
  "language_info": {
   "codemirror_mode": {
    "name": "ipython",
    "version": 3
   },
   "file_extension": ".py",
   "mimetype": "text/x-python",
   "name": "python",
   "nbconvert_exporter": "python",
   "pygments_lexer": "ipython3",
   "version": "3.8.5"
  }
 },
 "nbformat": 4,
 "nbformat_minor": 2
}
