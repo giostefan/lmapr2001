{
 "cells": [
  {
   "cell_type": "markdown",
   "metadata": {},
   "source": [
    "# FeS2 Material symmetry analysis"
   ]
  },
  {
   "cell_type": "code",
   "execution_count": 21,
   "metadata": {},
   "outputs": [],
   "source": [
    "# Download CIF file of \"mp-1522\" material\n",
    "from pymatgen.ext.matproj import MPRester\n",
    "from pymatgen.io.cif import CifWriter\n",
    "\n",
    "with MPRester(\"AaCuMl5yxEVFLZ8n\") as m:\n",
    "    # Get the information for material \"mp-1522\"\n",
    "    structure = m.get_structure_by_material_id(\"mp-1522\") # FeS2"
   ]
  },
  {
   "cell_type": "markdown",
   "metadata": {},
   "source": [
    "## To study of different elements of symmetry for each different atom"
   ]
  },
  {
   "cell_type": "code",
   "execution_count": 23,
   "metadata": {},
   "outputs": [
    {
     "name": "stdout",
     "output_type": "stream",
     "text": [
      "Full Formula (Fe2 S4)\n",
      "Reduced Formula: FeS2\n",
      "abc   :   3.390309   4.438316   5.411022\n",
      "angles:  90.000000  90.000000  90.000000\n",
      "Sites (6)\n",
      "  #  SP      a         b        c\n",
      "---  ----  ---  --------  -------\n",
      "  0  Fe    0.5  0.5       0.5\n",
      "  1  Fe    0    0         0\n",
      "  2  S     0.5  0.293999  0.87533\n",
      "  3  S     0.5  0.706001  0.12467\n",
      "  4  S     0    0.206001  0.37533\n",
      "  5  S     0    0.793999  0.62467\n"
     ]
    }
   ],
   "source": [
    "from pymatgen.symmetry.analyzer import * # SpacegroupAnalyzer\n",
    "\n",
    "FeS2analyser = SpacegroupAnalyzer(structure)\n",
    "# Provides the material structure according to standards. \n",
    "# The standards are defined in Setyawan, W., & Curtarolo, S. (2010)\n",
    "FeS2stdStructure = FeS2analyser.get_conventional_standard_structure()\n",
    "print(FeS2stdStructure)"
   ]
  },
  {
   "cell_type": "code",
   "execution_count": 24,
   "metadata": {
    "scrolled": false
   },
   "outputs": [
    {
     "name": "stdout",
     "output_type": "stream",
     "text": [
      "0 \t [1.6951545 2.219158  2.705511 ] Fe\n",
      "1 \t [0. 0. 0.] Fe\n",
      "2 \t [1.6951545  1.30486047 4.73642989] S\n",
      "3 \t [1.6951545  3.13345553 0.67459211] S\n",
      "4 \t [1.47030257e-16 9.14297534e-01 2.03091889e+00] S\n",
      "5 \t [5.66705391e-16 3.52401847e+00 3.38010311e+00] S\n"
     ]
    }
   ],
   "source": [
    "# Extract atom sites in the structure\n",
    "atomSite = FeS2stdStructure.sites\n",
    "i = 0\n",
    "for s in atomSite:\n",
    "    print(i,\"\\t\",s)\n",
    "    i += 1\n"
   ]
  },
  {
   "cell_type": "code",
   "execution_count": 25,
   "metadata": {
    "scrolled": true
   },
   "outputs": [
    {
     "name": "stdout",
     "output_type": "stream",
     "text": [
      "FeS2 Matrix of symmetry operations\n",
      "\n",
      " 0 )  simmetry operations: \t x, y, z\n",
      "Rot:\n",
      "[[1. 0. 0.]\n",
      " [0. 1. 0.]\n",
      " [0. 0. 1.]]\n",
      "tau\n",
      "[0. 0. 0.]\n",
      "\n",
      " 1 )  simmetry operations: \t -x, -y, -z\n",
      "Rot:\n",
      "[[-1.  0.  0.]\n",
      " [ 0. -1.  0.]\n",
      " [ 0.  0. -1.]]\n",
      "tau\n",
      "[0. 0. 0.]\n",
      "\n",
      " 2 )  simmetry operations: \t x, -y, -z\n",
      "Rot:\n",
      "[[ 1.  0.  0.]\n",
      " [ 0. -1.  0.]\n",
      " [ 0.  0. -1.]]\n",
      "tau\n",
      "[0. 0. 0.]\n",
      "\n",
      " 3 )  simmetry operations: \t -x, y, z\n",
      "Rot:\n",
      "[[-1.  0.  0.]\n",
      " [ 0.  1.  0.]\n",
      " [ 0.  0.  1.]]\n",
      "tau\n",
      "[0. 0. 0.]\n",
      "\n",
      " 4 )  simmetry operations: \t -x+1/2, y+1/2, -z+1/2\n",
      "Rot:\n",
      "[[-1.  0.  0.]\n",
      " [ 0.  1.  0.]\n",
      " [ 0.  0. -1.]]\n",
      "tau\n",
      "[0.5 0.5 0.5]\n",
      "\n",
      " 5 )  simmetry operations: \t x+1/2, -y+1/2, z+1/2\n",
      "Rot:\n",
      "[[ 1.  0.  0.]\n",
      " [ 0. -1.  0.]\n",
      " [ 0.  0.  1.]]\n",
      "tau\n",
      "[0.5 0.5 0.5]\n",
      "\n",
      " 6 )  simmetry operations: \t -x+1/2, -y+1/2, z+1/2\n",
      "Rot:\n",
      "[[-1.  0.  0.]\n",
      " [ 0. -1.  0.]\n",
      " [ 0.  0.  1.]]\n",
      "tau\n",
      "[0.5 0.5 0.5]\n",
      "\n",
      " 7 )  simmetry operations: \t x+1/2, y+1/2, -z+1/2\n",
      "Rot:\n",
      "[[ 1.  0.  0.]\n",
      " [ 0.  1.  0.]\n",
      " [ 0.  0. -1.]]\n",
      "tau\n",
      "[0.5 0.5 0.5]\n"
     ]
    }
   ],
   "source": [
    "# Extract the list of symmetry operations for the molecule FeS2\n",
    "from pymatgen.core.operations import SymmOp\n",
    "symmetryOp = FeS2analyser.get_symmetry_operations()\n",
    "\n",
    "print(\"FeS2 Matrix of symmetry operations\")\n",
    "i = 0\n",
    "for s in symmetryOp:\n",
    "    # Return a string x, y, z for rotation matrix\n",
    "    print(\"\\n\", i,\")\", \" simmetry operations: \\t\", s.as_xyz_string())\n",
    "    print(s)\n",
    "    \n",
    "    #validOp = is_valid_op(s)\n",
    "    #print(validOp)\n",
    "    i += 1\n"
   ]
  },
  {
   "cell_type": "markdown",
   "metadata": {},
   "source": [
    "### 1) Fe2S4"
   ]
  },
  {
   "attachments": {},
   "cell_type": "markdown",
   "metadata": {},
   "source": [
    "![image.png](Fe2S4.png)"
   ]
  },
  {
   "cell_type": "markdown",
   "metadata": {},
   "source": [
    "### 2) FeS2 Crystal"
   ]
  },
  {
   "attachments": {},
   "cell_type": "markdown",
   "metadata": {},
   "source": [
    "![image.png](FeS2_Crystal.png)"
   ]
  },
  {
   "cell_type": "code",
   "execution_count": null,
   "metadata": {},
   "outputs": [],
   "source": []
  }
 ],
 "metadata": {
  "kernelspec": {
   "display_name": "Python 3",
   "language": "python",
   "name": "python3"
  },
  "language_info": {
   "codemirror_mode": {
    "name": "ipython",
    "version": 3
   },
   "file_extension": ".py",
   "mimetype": "text/x-python",
   "name": "python",
   "nbconvert_exporter": "python",
   "pygments_lexer": "ipython3",
   "version": "3.8.5"
  }
 },
 "nbformat": 4,
 "nbformat_minor": 2
}
